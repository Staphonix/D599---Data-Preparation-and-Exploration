{
 "cells": [
  {
   "cell_type": "code",
   "execution_count": 2,
   "id": "49d90a10-62a7-4def-bc0a-ed5f40bde17e",
   "metadata": {},
   "outputs": [],
   "source": [
    "import pandas as pd"
   ]
  },
  {
   "cell_type": "code",
   "execution_count": 49,
   "id": "f152f7a1-0714-4e96-9441-c34dbbd634f8",
   "metadata": {},
   "outputs": [
    {
     "name": "stdout",
     "output_type": "stream",
     "text": [
      "EmployeeNumber                    int64\n",
      "Age                               int64\n",
      "Tenure                            int64\n",
      "Turnover                         object\n",
      "HourlyRate                       object\n",
      "HoursWeekly                       int64\n",
      "CompensationType                 object\n",
      "AnnualSalary                    float64\n",
      "DrivingCommuterDistance           int64\n",
      "JobRoleArea                      object\n",
      "Gender                           object\n",
      "MaritalStatus                    object\n",
      "NumCompaniesPreviouslyWorked    float64\n",
      "AnnualProfessionalDevHrs        float64\n",
      "PaycheckMethod                   object\n",
      "TextMessageOptIn                 object\n",
      "dtype: object\n"
     ]
    }
   ],
   "source": [
    "file_path = r\"C:\\Users\\Staphon Smith\\Downloads\\Employee Turnover Dataset.csv\"\n",
    "df = pd.read_csv(file_path)\n",
    "\n",
    "print(df.dtypes)"
   ]
  },
  {
   "cell_type": "code",
   "execution_count": 50,
   "id": "758425f1-6389-456d-8805-dda7f793fb9c",
   "metadata": {},
   "outputs": [
    {
     "name": "stdout",
     "output_type": "stream",
     "text": [
      "Number of duplicate rows: 99\n"
     ]
    }
   ],
   "source": [
    "#Looking for duplicated data\n",
    "num_duplicates = df.duplicated().sum()\n",
    "print(f'Number of duplicate rows: {num_duplicates}')"
   ]
  },
  {
   "cell_type": "code",
   "execution_count": 51,
   "id": "0172c7fa-1932-4f83-8b3e-40f6213caa17",
   "metadata": {},
   "outputs": [
    {
     "name": "stdout",
     "output_type": "stream",
     "text": [
      "       EmployeeNumber  Age  Tenure Turnover HourlyRate   HoursWeekly  \\\n",
      "10100               1   28       6      Yes     $24.37            40   \n",
      "10101               2   33       2      Yes     $24.37            40   \n",
      "10102               3   22       1       No     $22.52            40   \n",
      "10103               4   23       1       No     $22.52            40   \n",
      "10104               5   40       6       No     $88.77            40   \n",
      "...               ...  ...     ...      ...         ...          ...   \n",
      "10194              95   48      13      Yes     $85.40            40   \n",
      "10195              96   54      17       No     $85.40            40   \n",
      "10196              97   44       6       No     $71.90            40   \n",
      "10197              98   58      19       No     $71.90            40   \n",
      "10198              99   48      17      Yes     $71.33            40   \n",
      "\n",
      "      CompensationType  AnnualSalary  DrivingCommuterDistance  \\\n",
      "10100           Salary       50689.6                       89   \n",
      "10101           Salary       50689.6                       89   \n",
      "10102           Salary       46841.6                       35   \n",
      "10103           Salary       46841.6                       35   \n",
      "10104           Salary      284641.6                       12   \n",
      "...                ...           ...                      ...   \n",
      "10194           Salary      177632.0                       31   \n",
      "10195           Salary      177632.0                       31   \n",
      "10196           Salary      149552.0                       32   \n",
      "10197           Salary      149552.0                       32   \n",
      "10198           Salary      148075.2                       50   \n",
      "\n",
      "                  JobRoleArea                Gender MaritalStatus  \\\n",
      "10100                Research                Female       Married   \n",
      "10101                Research                Female       Married   \n",
      "10102  Information_Technology                Female        Single   \n",
      "10103  Information_Technology                Female        Single   \n",
      "10104                   Sales  Prefer Not to Answer        Single   \n",
      "...                       ...                   ...           ...   \n",
      "10194                Research                  Male        Single   \n",
      "10195                Research                  Male        Single   \n",
      "10196               Marketing                  Male       Married   \n",
      "10197               Marketing                  Male       Married   \n",
      "10198                   Sales  Prefer Not to Answer       Married   \n",
      "\n",
      "       NumCompaniesPreviouslyWorked  AnnualProfessionalDevHrs PaycheckMethod  \\\n",
      "10100                           3.0                       7.0     Mail Check   \n",
      "10101                           6.0                       7.0     Mail Check   \n",
      "10102                           1.0                       8.0   Mailed Check   \n",
      "10103                           3.0                       NaN   Mailed Check   \n",
      "10104                           7.0                       NaN     Mail Check   \n",
      "...                             ...                       ...            ...   \n",
      "10194                           7.0                       5.0     Mail Check   \n",
      "10195                           2.0                      25.0     Mail Check   \n",
      "10196                           6.0                       NaN     Mail Check   \n",
      "10197                           5.0                      23.0     Mail Check   \n",
      "10198                           8.0                       8.0     Mail Check   \n",
      "\n",
      "      TextMessageOptIn  \n",
      "10100              Yes  \n",
      "10101              Yes  \n",
      "10102              Yes  \n",
      "10103              Yes  \n",
      "10104              Yes  \n",
      "...                ...  \n",
      "10194              NaN  \n",
      "10195              Yes  \n",
      "10196              Yes  \n",
      "10197              Yes  \n",
      "10198              Yes  \n",
      "\n",
      "[99 rows x 16 columns]\n"
     ]
    }
   ],
   "source": [
    "#Listing the duplicate rows\n",
    "duplicate_rows = df[df.duplicated()]\n",
    "print(duplicate_rows)"
   ]
  },
  {
   "cell_type": "code",
   "execution_count": 52,
   "id": "d85402ef-0b0a-4dff-9777-e14ea9fb1477",
   "metadata": {},
   "outputs": [
    {
     "name": "stdout",
     "output_type": "stream",
     "text": [
      "       EmployeeNumber  Age  Tenure Turnover HourlyRate   HoursWeekly  \\\n",
      "0                   1   28       6      Yes     $24.37            40   \n",
      "1                   2   33       2      Yes     $24.37            40   \n",
      "2                   3   22       1       No     $22.52            40   \n",
      "3                   4   23       1       No     $22.52            40   \n",
      "4                   5   40       6       No     $88.77            40   \n",
      "...               ...  ...     ...      ...         ...          ...   \n",
      "10095           10096   50      15      Yes     $61.78            40   \n",
      "10096           10097   33       9      Yes     $23.28            40   \n",
      "10097           10098   31       9      Yes     $28.25            40   \n",
      "10098           10099   50      12       No     $32.22            40   \n",
      "10099           10100   59      14       No     $44.59            40   \n",
      "\n",
      "      CompensationType  AnnualSalary  DrivingCommuterDistance  \\\n",
      "0               Salary       50689.6                       89   \n",
      "1               Salary       50689.6                       89   \n",
      "2               Salary       46841.6                       35   \n",
      "3               Salary       46841.6                       35   \n",
      "4               Salary      284641.6                       12   \n",
      "...                ...           ...                      ...   \n",
      "10095           Salary      128502.4                        6   \n",
      "10096           Salary       48422.4                      -10   \n",
      "10097           Salary       37960.0                       68   \n",
      "10098           Salary       67017.6                      -13   \n",
      "10099           Salary       92747.2                       94   \n",
      "\n",
      "                  JobRoleArea                Gender MaritalStatus  \\\n",
      "0                    Research                Female       Married   \n",
      "1                    Research                Female       Married   \n",
      "2      Information_Technology                Female        Single   \n",
      "3      Information_Technology                Female        Single   \n",
      "4                       Sales  Prefer Not to Answer        Single   \n",
      "...                       ...                   ...           ...   \n",
      "10095              Laboratory                  Male      Divorced   \n",
      "10096               Marketing                  Male        Single   \n",
      "10097              Laboratory                  Male       Married   \n",
      "10098                Research                Female       Married   \n",
      "10099                Research                  Male       Married   \n",
      "\n",
      "       NumCompaniesPreviouslyWorked  AnnualProfessionalDevHrs  PaycheckMethod  \\\n",
      "0                               3.0                       7.0      Mail Check   \n",
      "1                               6.0                       7.0      Mail Check   \n",
      "2                               1.0                       8.0    Mailed Check   \n",
      "3                               3.0                       NaN    Mailed Check   \n",
      "4                               7.0                       NaN      Mail Check   \n",
      "...                             ...                       ...             ...   \n",
      "10095                           1.0                       8.0      Mail Check   \n",
      "10096                           1.0                      20.0  Direct_Deposit   \n",
      "10097                           2.0                      21.0   DirectDeposit   \n",
      "10098                           5.0                      20.0  Direct_Deposit   \n",
      "10099                           NaN                      10.0   DirectDeposit   \n",
      "\n",
      "      TextMessageOptIn  \n",
      "0                  Yes  \n",
      "1                  Yes  \n",
      "2                  Yes  \n",
      "3                  Yes  \n",
      "4                  Yes  \n",
      "...                ...  \n",
      "10095              Yes  \n",
      "10096              Yes  \n",
      "10097              NaN  \n",
      "10098              Yes  \n",
      "10099              NaN  \n",
      "\n",
      "[10100 rows x 16 columns]\n"
     ]
    }
   ],
   "source": [
    "#There are 99 duplicate rows that should be deleted\n",
    "\n",
    "# Drop all duplicate rows\n",
    "df_cleaned = df.drop_duplicates()\n",
    "\n",
    "# Check the result to ensure duplicates were removed\n",
    "print(df_cleaned)"
   ]
  },
  {
   "cell_type": "code",
   "execution_count": 53,
   "id": "124d4f73-51bc-4b51-a82a-8c230d5a321b",
   "metadata": {},
   "outputs": [
    {
     "name": "stdout",
     "output_type": "stream",
     "text": [
      "Number of duplicate rows: 0\n"
     ]
    }
   ],
   "source": [
    "#Checking again for duplicated data to ensure they were deleted\n",
    "num_duplicates = df_cleaned.duplicated().sum()\n",
    "print(f'Number of duplicate rows: {num_duplicates}')"
   ]
  },
  {
   "cell_type": "code",
   "execution_count": 54,
   "id": "877a7cac-3205-4560-89d3-36e29a0b9169",
   "metadata": {},
   "outputs": [
    {
     "name": "stdout",
     "output_type": "stream",
     "text": [
      "EmployeeNumber                     0\n",
      "Age                                0\n",
      "Tenure                             0\n",
      "Turnover                           0\n",
      "HourlyRate                         0\n",
      "HoursWeekly                        0\n",
      "CompensationType                   0\n",
      "AnnualSalary                       0\n",
      "DrivingCommuterDistance            0\n",
      "JobRoleArea                        0\n",
      "Gender                             0\n",
      "MaritalStatus                      0\n",
      "NumCompaniesPreviouslyWorked     663\n",
      "AnnualProfessionalDevHrs        1947\n",
      "PaycheckMethod                     0\n",
      "TextMessageOptIn                2258\n",
      "dtype: int64\n"
     ]
    }
   ],
   "source": [
    "#Looking for missing data\n",
    "print(df_cleaned.isnull().sum())"
   ]
  },
  {
   "cell_type": "code",
   "execution_count": 55,
   "id": "ae8b6d3b-270f-4128-864e-e19fdfb0e5cd",
   "metadata": {},
   "outputs": [
    {
     "name": "stdout",
     "output_type": "stream",
     "text": [
      "EmployeeNumber                  0\n",
      "Age                             0\n",
      "Tenure                          0\n",
      "Turnover                        0\n",
      "HourlyRate                      0\n",
      "HoursWeekly                     0\n",
      "CompensationType                0\n",
      "AnnualSalary                    0\n",
      "DrivingCommuterDistance         0\n",
      "JobRoleArea                     0\n",
      "Gender                          0\n",
      "MaritalStatus                   0\n",
      "NumCompaniesPreviouslyWorked    0\n",
      "AnnualProfessionalDevHrs        0\n",
      "PaycheckMethod                  0\n",
      "TextMessageOptIn                0\n",
      "dtype: int64\n"
     ]
    }
   ],
   "source": [
    "# Fill missing values with 0 for numeric columns\n",
    "df['NumCompaniesPreviouslyWorked'] = df['NumCompaniesPreviouslyWorked'].fillna(0)\n",
    "df['AnnualProfessionalDevHrs'] = df['AnnualProfessionalDevHrs'].fillna(0)\n",
    "\n",
    "# Fill missing values with 'No' for categorical column\n",
    "df['TextMessageOptIn'] = df['TextMessageOptIn'].fillna('No')\n",
    "\n",
    "# Confirm no missing values remain\n",
    "print(df.isnull().sum())"
   ]
  },
  {
   "cell_type": "code",
   "execution_count": 56,
   "id": "ac838644-d701-46c6-b67f-ccad0c9512e9",
   "metadata": {},
   "outputs": [
    {
     "name": "stdout",
     "output_type": "stream",
     "text": [
      "Original DataFrame: 10199 rows\n",
      "Cleaned DataFrame: 10100 rows\n"
     ]
    }
   ],
   "source": [
    "# Check the number of rows before and after dropping missing values\n",
    "print(f\"Original DataFrame: {df.shape[0]} rows\")\n",
    "print(f\"Cleaned DataFrame: {df_cleaned.shape[0]} rows\")"
   ]
  },
  {
   "cell_type": "code",
   "execution_count": 57,
   "id": "15e071d6-bcc2-41cb-88be-cb2daa4bb10e",
   "metadata": {},
   "outputs": [],
   "source": [
    "#Checking for inconsistent entries, formatting errors, out outliers starts here\n"
   ]
  },
  {
   "cell_type": "code",
   "execution_count": 58,
   "id": "15086b77-d8ef-4b12-bf03-bbe44246b60f",
   "metadata": {},
   "outputs": [
    {
     "name": "stdout",
     "output_type": "stream",
     "text": [
      "Empty DataFrame\n",
      "Columns: [EmployeeNumber, Age, Tenure, Turnover, HourlyRate , HoursWeekly, CompensationType, AnnualSalary, DrivingCommuterDistance, JobRoleArea, Gender, MaritalStatus, NumCompaniesPreviouslyWorked, AnnualProfessionalDevHrs, PaycheckMethod, TextMessageOptIn]\n",
      "Index: []\n"
     ]
    }
   ],
   "source": [
    "#Making sure all values in EmployeeNumber are numeric\n",
    "\n",
    "#First any entires that are non-numeric will be changed to NaN values. Then count how many NaN values there are to see if we caught any errors\n",
    "non_numeric_entries_EN = df_cleaned[pd.to_numeric(df_cleaned['EmployeeNumber'], errors='coerce').isna()]\n",
    "print(non_numeric_entries_EN)"
   ]
  },
  {
   "cell_type": "code",
   "execution_count": 59,
   "id": "4fef74e8-ea50-45ec-9c3c-b16485f8b0b9",
   "metadata": {},
   "outputs": [],
   "source": [
    "#All EmployeeNumbers are numeric"
   ]
  },
  {
   "cell_type": "code",
   "execution_count": 60,
   "id": "0b80620c-ef0d-4065-a2c7-e201333fabf1",
   "metadata": {},
   "outputs": [
    {
     "name": "stdout",
     "output_type": "stream",
     "text": [
      "EmployeeNumber\n",
      "1        1\n",
      "6738     1\n",
      "6731     1\n",
      "6732     1\n",
      "6733     1\n",
      "        ..\n",
      "3367     1\n",
      "3368     1\n",
      "3369     1\n",
      "3370     1\n",
      "10100    1\n",
      "Name: count, Length: 10100, dtype: int64\n"
     ]
    }
   ],
   "source": [
    "# Check EmployeeNumber column for abnormalities\n",
    "EmployeeNumber_counts = df_cleaned['EmployeeNumber'].value_counts()\n",
    "print(EmployeeNumber_counts)"
   ]
  },
  {
   "cell_type": "code",
   "execution_count": 61,
   "id": "0c6836c9-2cae-4aec-ab0e-c008df7d0a2a",
   "metadata": {},
   "outputs": [],
   "source": [
    "#good to go"
   ]
  },
  {
   "cell_type": "code",
   "execution_count": 62,
   "id": "6ba0f9bf-693a-4e0f-b71c-2d362168cd3b",
   "metadata": {},
   "outputs": [
    {
     "name": "stdout",
     "output_type": "stream",
     "text": [
      "Age\n",
      "39    444\n",
      "37    422\n",
      "36    403\n",
      "38    382\n",
      "40    375\n",
      "43    317\n",
      "44    315\n",
      "48    311\n",
      "46    305\n",
      "56    303\n",
      "42    300\n",
      "41    299\n",
      "60    296\n",
      "58    296\n",
      "47    295\n",
      "54    293\n",
      "61    293\n",
      "59    290\n",
      "53    289\n",
      "45    281\n",
      "57    279\n",
      "49    278\n",
      "51    278\n",
      "52    266\n",
      "50    265\n",
      "55    243\n",
      "32    213\n",
      "30    202\n",
      "34    201\n",
      "33    189\n",
      "35    186\n",
      "31    184\n",
      "22    102\n",
      "24     96\n",
      "21     92\n",
      "26     91\n",
      "25     89\n",
      "27     89\n",
      "29     88\n",
      "23     82\n",
      "28     78\n",
      "Name: count, dtype: int64\n"
     ]
    }
   ],
   "source": [
    "#Check Age column for abnormalities\n",
    "Age_counts = df_cleaned['Age'].value_counts()\n",
    "print(Age_counts)"
   ]
  },
  {
   "cell_type": "code",
   "execution_count": 63,
   "id": "66c1a632-9a61-4aad-b486-779298cd4aff",
   "metadata": {},
   "outputs": [],
   "source": [
    "#There were no abnormalities or outliers found in the age column.\n"
   ]
  },
  {
   "cell_type": "code",
   "execution_count": 64,
   "id": "e3aac533-2ef9-4a85-a3ce-1ca4947e27da",
   "metadata": {},
   "outputs": [
    {
     "name": "stdout",
     "output_type": "stream",
     "text": [
      "Tenure\n",
      "1     851\n",
      "10    737\n",
      "5     733\n",
      "7     728\n",
      "6     719\n",
      "8     703\n",
      "9     679\n",
      "3     609\n",
      "2     452\n",
      "4     447\n",
      "14    375\n",
      "15    360\n",
      "20    356\n",
      "19    349\n",
      "13    348\n",
      "16    341\n",
      "18    334\n",
      "11    329\n",
      "12    327\n",
      "17    323\n",
      "Name: count, dtype: int64\n"
     ]
    }
   ],
   "source": [
    "#Check Tenure for abnormalities\n",
    "Tenure_counts = df_cleaned['Tenure'].value_counts()\n",
    "print(Tenure_counts)\n"
   ]
  },
  {
   "cell_type": "code",
   "execution_count": 65,
   "id": "f7987f2a-d366-4b1c-9223-0e07840118a4",
   "metadata": {},
   "outputs": [],
   "source": [
    "#Tenure had no abnormalities. "
   ]
  },
  {
   "cell_type": "code",
   "execution_count": 66,
   "id": "8bc64bfa-28d7-445f-ba21-41f812edc366",
   "metadata": {},
   "outputs": [
    {
     "name": "stdout",
     "output_type": "stream",
     "text": [
      "Turnover\n",
      "No     5456\n",
      "Yes    4644\n",
      "Name: count, dtype: int64\n"
     ]
    }
   ],
   "source": [
    "#Check Turnover for abnormalities\n",
    "Turnover_counts = df_cleaned['Turnover'].value_counts()\n",
    "print(Turnover_counts)"
   ]
  },
  {
   "cell_type": "code",
   "execution_count": 67,
   "id": "f301ca50-bccb-4088-a5ad-7a55c6e36bf5",
   "metadata": {},
   "outputs": [],
   "source": [
    "#No abnormalities in Turnover."
   ]
  },
  {
   "cell_type": "code",
   "execution_count": 68,
   "id": "023fc9b9-bc70-499b-8bdb-21b9998f20d6",
   "metadata": {},
   "outputs": [],
   "source": [
    "# I found there was an extra space after \"HourlyRate\" so i used the code below so it wont happen again."
   ]
  },
  {
   "cell_type": "code",
   "execution_count": 69,
   "id": "7536127b-4788-44e5-87d7-70d4e3fa13d3",
   "metadata": {},
   "outputs": [],
   "source": [
    "df_cleaned.columns = df_cleaned.columns.str.strip()"
   ]
  },
  {
   "cell_type": "code",
   "execution_count": 70,
   "id": "f23ae38d-f3a7-457b-8abb-24e1af976c56",
   "metadata": {},
   "outputs": [
    {
     "name": "stdout",
     "output_type": "stream",
     "text": [
      "HourlyRate counts:\n",
      "HourlyRate\n",
      "$34.28     11\n",
      "$31.28     10\n",
      "$33.66     10\n",
      "$28.83      9\n",
      "$33.06      9\n",
      "           ..\n",
      "$28.37      1\n",
      "$56.02      1\n",
      "$89.43      1\n",
      "$88.05      1\n",
      "$93.05      1\n",
      "Name: count, Length: 5244, dtype: int64\n"
     ]
    }
   ],
   "source": [
    "#listin unique entries in HourlyRate\n",
    "HourlyRate_counts = df_cleaned['HourlyRate'].value_counts()\n",
    "\n",
    "#display the counts\n",
    "print(\"HourlyRate counts:\")\n",
    "print(HourlyRate_counts)"
   ]
  },
  {
   "cell_type": "code",
   "execution_count": 71,
   "id": "a59fb092-ecd5-44aa-93d3-fed2bc543f98",
   "metadata": {},
   "outputs": [],
   "source": [
    "#Hourly Rate is good to go."
   ]
  },
  {
   "cell_type": "code",
   "execution_count": 72,
   "id": "59c0fd69-6149-43b3-a9d3-20c96f940296",
   "metadata": {},
   "outputs": [
    {
     "name": "stdout",
     "output_type": "stream",
     "text": [
      "HoursWeekly\n",
      "40    10100\n",
      "Name: count, dtype: int64\n"
     ]
    }
   ],
   "source": [
    "#Check HoursWeekly for abnormalities\n",
    "HoursWeekly_counts = df_cleaned['HoursWeekly'].value_counts()\n",
    "print(HoursWeekly_counts)"
   ]
  },
  {
   "cell_type": "code",
   "execution_count": 73,
   "id": "f6abfa1d-8609-4cf0-a284-f0b1575bc856",
   "metadata": {},
   "outputs": [],
   "source": [
    "#HoursWeekly is good to go."
   ]
  },
  {
   "cell_type": "code",
   "execution_count": 74,
   "id": "96de439c-ff9e-412d-80bc-7bf7e2d522ff",
   "metadata": {},
   "outputs": [
    {
     "name": "stdout",
     "output_type": "stream",
     "text": [
      "CompensationType\n",
      "Salary    10100\n",
      "Name: count, dtype: int64\n"
     ]
    }
   ],
   "source": [
    "#CompensationType for Errors/abnormalities\n",
    "CompensationType_counts = df_cleaned['CompensationType'].value_counts()\n",
    "print(CompensationType_counts)"
   ]
  },
  {
   "cell_type": "code",
   "execution_count": 75,
   "id": "983419ed-cae6-4ef1-b363-f87b45aaa721",
   "metadata": {},
   "outputs": [],
   "source": [
    "#No issues found with Compensation Type."
   ]
  },
  {
   "cell_type": "code",
   "execution_count": 76,
   "id": "5b64f4aa-32ab-4b2b-9124-aea920f906f7",
   "metadata": {},
   "outputs": [
    {
     "name": "stdout",
     "output_type": "stream",
     "text": [
      "AnnualSalary\n",
      "76294.4     9\n",
      "64896.0     8\n",
      "54350.4     7\n",
      "53414.4     7\n",
      "67392.0     7\n",
      "           ..\n",
      "49254.4     1\n",
      "156707.2    1\n",
      "37086.4     1\n",
      "202571.2    1\n",
      "333544.0    1\n",
      "Name: count, Length: 5538, dtype: int64\n"
     ]
    }
   ],
   "source": [
    "#AnnualSalary for abnormalities\n",
    "AnnualSalary_counts = df_cleaned['AnnualSalary'].value_counts()\n",
    "print(AnnualSalary_counts)"
   ]
  },
  {
   "cell_type": "code",
   "execution_count": 77,
   "id": "3a51e7e2-3b19-48fc-a45c-4d5326922ffe",
   "metadata": {},
   "outputs": [],
   "source": [
    "#No issues with Annual Salary, given a normal company has wide ranges in pay for certain employees."
   ]
  },
  {
   "cell_type": "code",
   "execution_count": 78,
   "id": "1bb78962-fc2e-4549-95aa-1f14c2dfe036",
   "metadata": {},
   "outputs": [
    {
     "name": "stdout",
     "output_type": "stream",
     "text": [
      "DrivingCommuterDistance\n",
      " 33     184\n",
      " 250    177\n",
      " 28     157\n",
      " 27     125\n",
      " 42     113\n",
      "       ... \n",
      "-125     19\n",
      "-275     17\n",
      " 125     17\n",
      " 910      4\n",
      " 950      2\n",
      "Name: count, Length: 120, dtype: int64\n"
     ]
    }
   ],
   "source": [
    "#Check DrivingCommuterDistance for abnormalities\n",
    "DrivingCommuterDistance_counts = df_cleaned['DrivingCommuterDistance'].value_counts()\n",
    "print(DrivingCommuterDistance_counts)"
   ]
  },
  {
   "cell_type": "code",
   "execution_count": 79,
   "id": "b77cbe49-9082-493b-b407-5e5b5d9c8c6e",
   "metadata": {},
   "outputs": [],
   "source": [
    "#There are a lot of outliers and commutes that are unfeasible. I would have take out anything +250 miles however there are plenty that do that commute."
   ]
  },
  {
   "cell_type": "code",
   "execution_count": 80,
   "id": "25b42bcf-0af2-44a1-a778-b6356cd27869",
   "metadata": {},
   "outputs": [],
   "source": [
    "#Remove rows where DrivingCommuterDistance is greater than 250 and less than 0\n",
    "df_cleaned = df_cleaned[(df_cleaned['DrivingCommuterDistance'] <= 250) & (df_cleaned['DrivingCommuterDistance'] >= 0)]"
   ]
  },
  {
   "cell_type": "code",
   "execution_count": 81,
   "id": "37e0bbb6-e5b7-4164-9a04-6f45829aabf7",
   "metadata": {},
   "outputs": [
    {
     "name": "stdout",
     "output_type": "stream",
     "text": [
      "DrivingCommuterDistance\n",
      "33     184\n",
      "250    177\n",
      "28     157\n",
      "27     125\n",
      "42     113\n",
      "      ... \n",
      "90      62\n",
      "98      58\n",
      "96      57\n",
      "91      51\n",
      "125     17\n",
      "Name: count, Length: 100, dtype: int64\n"
     ]
    }
   ],
   "source": [
    "#Reused prior code to see if outliers have been deleted.\n",
    "DrivingCommuterDistance_counts = df_cleaned['DrivingCommuterDistance'].value_counts()\n",
    "print(DrivingCommuterDistance_counts)"
   ]
  },
  {
   "cell_type": "code",
   "execution_count": 82,
   "id": "e2597fa3-4fee-4709-896f-193e4d9a6b8c",
   "metadata": {},
   "outputs": [
    {
     "name": "stdout",
     "output_type": "stream",
     "text": [
      "JobRoleArea:\n",
      "JobRoleArea\n",
      "Research                  1733\n",
      "Sales                     1718\n",
      "Marketing                  943\n",
      "Manufacturing              895\n",
      "Healthcare                 890\n",
      "Laboratory                 870\n",
      "Human Resources            765\n",
      "Information Technology     736\n",
      "InformationTechnology       73\n",
      "HumanResources              43\n",
      "Information_Technology      36\n",
      "Human_Resources             27\n",
      "Name: count, dtype: int64\n"
     ]
    }
   ],
   "source": [
    "#Listing unique entries in JobRoleArea\n",
    "JobRoleArea_counts = df_cleaned['JobRoleArea'].value_counts()\n",
    "\n",
    "# Display the counts\n",
    "print(\"JobRoleArea:\")\n",
    "print(JobRoleArea_counts)"
   ]
  },
  {
   "cell_type": "code",
   "execution_count": 83,
   "id": "9510c3ce-7760-42ab-9477-a71a72aba994",
   "metadata": {},
   "outputs": [
    {
     "name": "stdout",
     "output_type": "stream",
     "text": [
      "Gender\n",
      "Female                  4964\n",
      "Male                    3640\n",
      "Prefer Not to Answer     125\n",
      "Name: count, dtype: int64\n"
     ]
    }
   ],
   "source": [
    "#Listing unique entries in Gender\n",
    "Gender_counts = df_cleaned['Gender'].value_counts()\n",
    "\n",
    "# Display the counts\n",
    "print(Gender_counts)"
   ]
  },
  {
   "cell_type": "code",
   "execution_count": 84,
   "id": "a8830ed9-09ab-481a-b670-7b55c2d7a41c",
   "metadata": {},
   "outputs": [],
   "source": [
    "#Gender looks good."
   ]
  },
  {
   "cell_type": "code",
   "execution_count": 85,
   "id": "0730c1da-d165-419d-9eb4-f7d7e540cfb7",
   "metadata": {},
   "outputs": [
    {
     "name": "stdout",
     "output_type": "stream",
     "text": [
      "MaritalStatus:\n",
      "MaritalStatus\n",
      "Single      2939\n",
      "Married     2924\n",
      "Divorced    2866\n",
      "Name: count, dtype: int64\n"
     ]
    }
   ],
   "source": [
    "#Listing unique entries in MartialStatus\n",
    "MaritalStatus_counts = df_cleaned['MaritalStatus'].value_counts()\n",
    "\n",
    "# Display the counts\n",
    "print(\"MaritalStatus:\")\n",
    "print(MaritalStatus_counts)"
   ]
  },
  {
   "cell_type": "code",
   "execution_count": 86,
   "id": "065f0fb1-966e-4ab7-a7c2-231ad80b04f5",
   "metadata": {},
   "outputs": [],
   "source": [
    "#Marital Status looks fine."
   ]
  },
  {
   "cell_type": "code",
   "execution_count": 87,
   "id": "33fd16d9-e8f2-4b12-bc5f-952d86e0dcea",
   "metadata": {},
   "outputs": [
    {
     "name": "stdout",
     "output_type": "stream",
     "text": [
      "NumCompaniesPreviouslyWorked:\n",
      "NumCompaniesPreviouslyWorked\n",
      "1.0    1289\n",
      "2.0    1263\n",
      "3.0    1259\n",
      "6.0     914\n",
      "4.0     873\n",
      "5.0     846\n",
      "7.0     588\n",
      "8.0     565\n",
      "9.0     561\n",
      "Name: count, dtype: int64\n"
     ]
    }
   ],
   "source": [
    "#Listing unique entries in NumCompaniesPreviouslyWorked\n",
    "NumCompaniesPreviouslyWorked_counts = df_cleaned['NumCompaniesPreviouslyWorked'].value_counts()\n",
    "print(\"NumCompaniesPreviouslyWorked:\")\n",
    "print(NumCompaniesPreviouslyWorked_counts)"
   ]
  },
  {
   "cell_type": "code",
   "execution_count": 88,
   "id": "86466e0e-909f-49cb-af4e-7f9cd61085ae",
   "metadata": {},
   "outputs": [],
   "source": [
    "#Looks good to go."
   ]
  },
  {
   "cell_type": "code",
   "execution_count": 89,
   "id": "1ca149ad-aa5d-424a-ac5f-a6d60d3bfdef",
   "metadata": {},
   "outputs": [
    {
     "name": "stdout",
     "output_type": "stream",
     "text": [
      "AnnualProfessionalDevHrs:\n",
      "AnnualProfessionalDevHrs\n",
      "14.0    368\n",
      "10.0    368\n",
      "23.0    365\n",
      "25.0    363\n",
      "13.0    352\n",
      "5.0     346\n",
      "6.0     344\n",
      "22.0    340\n",
      "12.0    339\n",
      "9.0     334\n",
      "19.0    332\n",
      "7.0     330\n",
      "18.0    329\n",
      "15.0    329\n",
      "17.0    326\n",
      "11.0    325\n",
      "8.0     324\n",
      "24.0    317\n",
      "21.0    314\n",
      "20.0    310\n",
      "16.0    305\n",
      "Name: count, dtype: int64\n"
     ]
    }
   ],
   "source": [
    "#Listing unique entries in AnnualProfessionalDevHrs\n",
    "AnnualProfessionalDevHrs_counts = df_cleaned['AnnualProfessionalDevHrs'].value_counts()\n",
    "print(\"AnnualProfessionalDevHrs:\")\n",
    "print(AnnualProfessionalDevHrs_counts)"
   ]
  },
  {
   "cell_type": "code",
   "execution_count": 90,
   "id": "afde2f51-28b9-402c-ae97-09e08c69edd9",
   "metadata": {},
   "outputs": [
    {
     "name": "stdout",
     "output_type": "stream",
     "text": [
      "PaycheckMethod:\n",
      "PaycheckMethod\n",
      "Mail Check        4248\n",
      "Mailed Check      2103\n",
      "DirectDeposit      861\n",
      "Direct_Deposit     799\n",
      "Mail_Check         482\n",
      "Direct Deposit     193\n",
      "MailedCheck         43\n",
      "Name: count, dtype: int64\n"
     ]
    }
   ],
   "source": [
    "#Listing unique entries in PaycheckMethod\n",
    "PaycheckMethod_counts = df_cleaned['PaycheckMethod'].value_counts()\n",
    "print(\"PaycheckMethod:\")\n",
    "print(PaycheckMethod_counts)"
   ]
  },
  {
   "cell_type": "code",
   "execution_count": 91,
   "id": "b4e625e8-f5bf-41d7-a6e9-5bbefb51e42d",
   "metadata": {},
   "outputs": [],
   "source": [
    "#there is some errors in just putting data into two categories so I will fix that below."
   ]
  },
  {
   "cell_type": "code",
   "execution_count": 92,
   "id": "2207ba8f-419b-4dd0-bf40-984b1f38d346",
   "metadata": {},
   "outputs": [
    {
     "name": "stdout",
     "output_type": "stream",
     "text": [
      "PaycheckMethod\n",
      "Check             6876\n",
      "Direct Deposit    1853\n",
      "Name: count, dtype: int64\n"
     ]
    }
   ],
   "source": [
    "# Normalize the column\n",
    "df_cleaned['PaycheckMethod'] = df_cleaned['PaycheckMethod'].str.strip().str.lower()\n",
    "\n",
    "# Map all known variations to two standard categories\n",
    "df_cleaned['PaycheckMethod'] = df_cleaned['PaycheckMethod'].replace({\n",
    "    'directdeposit': 'Direct Deposit',\n",
    "    'direct_deposit': 'Direct Deposit',\n",
    "    'direct deposit': 'Direct Deposit',\n",
    "\n",
    "    'mail check': 'Check',\n",
    "    'mailed check': 'Check',\n",
    "    'mail_check': 'Check',\n",
    "    'mailedcheck': 'Check'\n",
    "})\n",
    "\n",
    "# Confirm the result\n",
    "print(df_cleaned['PaycheckMethod'].value_counts())\n"
   ]
  },
  {
   "cell_type": "code",
   "execution_count": 93,
   "id": "0d958612-3ab0-4cad-a977-89a918e0ad3f",
   "metadata": {},
   "outputs": [
    {
     "name": "stdout",
     "output_type": "stream",
     "text": [
      "TextMessageOptIn:\n",
      "TextMessageOptIn\n",
      "Yes    6285\n",
      "No      455\n",
      "Name: count, dtype: int64\n"
     ]
    }
   ],
   "source": [
    "#TextMessageOptIn\n",
    "TextMessageOptIn_counts = df_cleaned['TextMessageOptIn'].value_counts()\n",
    "print(\"TextMessageOptIn:\")\n",
    "print(TextMessageOptIn_counts)"
   ]
  },
  {
   "cell_type": "code",
   "execution_count": 97,
   "id": "7353d20a-44b0-4a64-9bc5-ce3387d95d4a",
   "metadata": {},
   "outputs": [],
   "source": [
    "#The dataset is finally clean!\n",
    "\n",
    "# Save the cleaned DataFrame as a CSV file on the desktop\n",
    "df_cleaned.to_csv(r'C:\\Users\\Staphon Smith\\OneDrive\\Desktop\\cleaned_employee_data_final.csv', index=False)\n",
    "\n"
   ]
  },
  {
   "cell_type": "code",
   "execution_count": null,
   "id": "d296bd6d-6c21-49bd-a6f9-a3db0383b543",
   "metadata": {},
   "outputs": [],
   "source": []
  }
 ],
 "metadata": {
  "kernelspec": {
   "display_name": "Python 3 (ipykernel)",
   "language": "python",
   "name": "python3"
  },
  "language_info": {
   "codemirror_mode": {
    "name": "ipython",
    "version": 3
   },
   "file_extension": ".py",
   "mimetype": "text/x-python",
   "name": "python",
   "nbconvert_exporter": "python",
   "pygments_lexer": "ipython3",
   "version": "3.12.7"
  }
 },
 "nbformat": 4,
 "nbformat_minor": 5
}
